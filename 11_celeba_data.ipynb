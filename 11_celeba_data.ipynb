{
 "cells": [
  {
   "cell_type": "markdown",
   "metadata": {
    "colab_type": "text",
    "id": "DpII-qgno6EX"
   },
   "source": [
    "# 얼굴 이미지 - HDF5의 CelebA 데이터 탐색하기\n",
    "\n",
    "GAN 첫걸음, 2020"
   ]
  },
  {
   "cell_type": "code",
   "execution_count": 0,
   "metadata": {
    "colab": {},
    "colab_type": "code",
    "id": "B6g6LPI9Xjgl"
   },
   "outputs": [],
   "source": [
    "# 데이터 파일에 접근하기 위해 드라이브 마운트\n",
    "\n",
    "from google.colab import drive\n",
    "drive.mount('./mount')"
   ]
  },
  {
   "cell_type": "markdown",
   "metadata": {
    "colab_type": "text",
    "id": "R1VyK4VQpNYA"
   },
   "source": [
    "## HDF5 데이터 탐색"
   ]
  },
  {
   "cell_type": "code",
   "execution_count": 0,
   "metadata": {
    "colab": {},
    "colab_type": "code",
    "id": "XyJ6UpvQ9L9j"
   },
   "outputs": [],
   "source": [
    "# h5py를 임포트 하여 데이터 엑세스\n",
    "import h5py\n",
    "\n",
    "import numpy\n",
    "import matplotlib.pyplot as plt"
   ]
  },
  {
   "cell_type": "code",
   "execution_count": 0,
   "metadata": {
    "colab": {
     "base_uri": "https://localhost:8080/",
     "height": 34
    },
    "colab_type": "code",
    "id": "tXPSitIsufkE",
    "outputId": "5f0cdc6f-8f5b-4dee-d1a7-4197c9c36434"
   },
   "outputs": [
    {
     "name": "stdout",
     "output_type": "stream",
     "text": [
      "img_align_celeba\n"
     ]
    }
   ],
   "source": [
    "# HDF5 파일을 여러서 내부 그룹을 리스팅함\n",
    "\n",
    "with h5py.File('mount/My Drive/Colab Notebooks/myo_gan/celeba_dataset/celeba_aligned_small.h5py', 'r') as file_object:\n",
    "  \n",
    "  for group in file_object:\n",
    "    print(group)\n",
    "    pass"
   ]
  },
  {
   "cell_type": "code",
   "execution_count": 0,
   "metadata": {
    "colab": {},
    "colab_type": "code",
    "id": "MrgKlTsRAfSk"
   },
   "outputs": [],
   "source": [
    "# HDF5 파일을 열어서 예제 이미지를 numpy 행렬로 열고 플롯\n",
    "\n",
    "with h5py.File('mount/My Drive/Colab Notebooks/myo_gan/celeba_dataset/celeba_aligned_small.h5py', 'r') as file_object:\n",
    "  dataset = file_object['img_align_celeba']\n",
    "  image = numpy.array(dataset['6.jpg'])\n",
    "  plt.imshow(image, interpolation='none')\n",
    "  pass"
   ]
  },
  {
   "cell_type": "code",
   "execution_count": 0,
   "metadata": {
    "colab": {
     "base_uri": "https://localhost:8080/",
     "height": 34
    },
    "colab_type": "code",
    "id": "VLS3pXEevWq9",
    "outputId": "ec8004b8-283c-4083-dcb9-b2dd2c8553b1"
   },
   "outputs": [
    {
     "data": {
      "text/plain": [
       "(218, 178, 3)"
      ]
     },
     "execution_count": 9,
     "metadata": {
      "tags": []
     },
     "output_type": "execute_result"
    }
   ],
   "source": [
    "# image 행렬의 형태 확인\n",
    "\n",
    "image.shape"
   ]
  },
  {
   "cell_type": "code",
   "execution_count": 0,
   "metadata": {
    "colab": {},
    "colab_type": "code",
    "id": "6JdUAVOWSbOo"
   },
   "outputs": [],
   "source": []
  }
 ],
 "metadata": {
  "colab": {
   "collapsed_sections": [],
   "name": "11_celeba_data.ipynb",
   "provenance": []
  },
  "kernelspec": {
   "display_name": "Python 3",
   "language": "python",
   "name": "python3"
  }
 },
 "nbformat": 4,
 "nbformat_minor": 1
}
