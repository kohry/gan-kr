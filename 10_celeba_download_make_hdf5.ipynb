{
 "cells": [
  {
   "cell_type": "markdown",
   "metadata": {
    "colab_type": "text",
    "id": "DpII-qgno6EX"
   },
   "source": [
    "# 얼굴 이미지 - CelebA 데이터 다운로드 및 HDF5파일 형식 만들기\n",
    "\n",
    "GAN 첫걸음, 2020"
   ]
  },
  {
   "cell_type": "code",
   "execution_count": 0,
   "metadata": {
    "colab": {},
    "colab_type": "code",
    "id": "B6g6LPI9Xjgl"
   },
   "outputs": [],
   "source": [
    "# 데이터 파일에 접근하기 위해 드라이브 마운트\n",
    "\n",
    "from google.colab import drive\n",
    "drive.mount('./mount')"
   ]
  },
  {
   "cell_type": "markdown",
   "metadata": {
    "colab_type": "text",
    "id": "Wi65ho8_tgQG"
   },
   "source": [
    "## CelebA 데이터셋 다운로드\n",
    "\n",
    "다운로드 데이터는 colab 가상 머신이 삭제되면 삭제됩니다."
   ]
  },
  {
   "cell_type": "code",
   "execution_count": 0,
   "metadata": {
    "colab": {},
    "colab_type": "code",
    "id": "Jw2Il5l-zB1l"
   },
   "outputs": [],
   "source": [
    "import torchvision.datasets"
   ]
  },
  {
   "cell_type": "code",
   "execution_count": 0,
   "metadata": {
    "colab": {
     "base_uri": "https://localhost:8080/",
     "height": 119
    },
    "colab_type": "code",
    "id": "-MKGmYJW1EPY",
    "outputId": "a7d96fb7-8670-4dd9-f949-e31d424246bf"
   },
   "outputs": [
    {
     "name": "stderr",
     "output_type": "stream",
     "text": [
      "1443490838it [00:22, 64635897.32it/s]\n",
      "26721026it [00:00, 71436606.56it/s]\n",
      "3424458it [00:00, 178833829.96it/s]\n",
      "6082035it [00:00, 210968621.12it/s]\n",
      "12156055it [00:00, 188265275.26it/s]\n",
      "2836386it [00:00, 169782576.64it/s]\n"
     ]
    }
   ],
   "source": [
    "# 데이터 다운로드\n",
    "\n",
    "mnist_dataset = torchvision.datasets.CelebA(root='.', download=True)"
   ]
  },
  {
   "cell_type": "markdown",
   "metadata": {
    "colab_type": "text",
    "id": "B9hyVvblv0kF"
   },
   "source": [
    "## 이미지 추출 후 HDF5로 리패키지\n",
    "\n",
    "HDF5 파일은 구글 드라이브에 저장되며, colab 가상머신이 삭제되더라도 삭제되지 않습니다."
   ]
  },
  {
   "cell_type": "code",
   "execution_count": 0,
   "metadata": {
    "colab": {},
    "colab_type": "code",
    "id": "mgPN34s04_li"
   },
   "outputs": [],
   "source": [
    "import h5py\n",
    "import zipfile\n",
    "import imageio\n",
    "import os"
   ]
  },
  {
   "cell_type": "code",
   "execution_count": 0,
   "metadata": {
    "colab": {
     "base_uri": "https://localhost:8080/",
     "height": 391
    },
    "colab_type": "code",
    "id": "UJXhnB3wv7kl",
    "outputId": "4131f301-1c89-4b21-a9e5-3eb2aff267f3"
   },
   "outputs": [
    {
     "name": "stdout",
     "output_type": "stream",
     "text": [
      "images done ..  1000\n",
      "images done ..  2000\n",
      "images done ..  3000\n",
      "images done ..  4000\n",
      "images done ..  5000\n",
      "images done ..  6000\n",
      "images done ..  7000\n",
      "images done ..  8000\n",
      "images done ..  9000\n",
      "images done ..  10000\n",
      "images done ..  11000\n",
      "images done ..  12000\n",
      "images done ..  13000\n",
      "images done ..  14000\n",
      "images done ..  15000\n",
      "images done ..  16000\n",
      "images done ..  17000\n",
      "images done ..  18000\n",
      "images done ..  19000\n",
      "images done ..  20000\n",
      "CPU times: user 3min 11s, sys: 10.1 s, total: 3min 21s\n",
      "Wall time: 4min 3s\n"
     ]
    }
   ],
   "source": [
    "%%time\n",
    "\n",
    "# HDF5 패키지가 위치하는 경로\n",
    "hdf5_file = 'mount/My Drive/Colab Notebooks/myo_gan/celeba_dataset/celeba_aligned_small.h5py'\n",
    "\n",
    "# 몇개 이미지를 HDF5로 패키징할지 설정\n",
    "total_images = 20000\n",
    "\n",
    "with h5py.File(hdf5_file, 'w') as hf:\n",
    "\n",
    "    count = 0\n",
    "\n",
    "    with zipfile.ZipFile('celeba/img_align_celeba.zip', 'r') as zf:\n",
    "      for i in zf.namelist():\n",
    "        if (i[-4:] == '.jpg'):\n",
    "          # 이미지 추출\n",
    "          ofile = zf.extract(i)\n",
    "          img = imageio.imread(ofile)\n",
    "          os.remove(ofile)\n",
    "\n",
    "          # 이미지 데이터를 HDF5 파일에 새로운 이름으로 추가\n",
    "          hf.create_dataset('img_align_celeba/'+str(count)+'.jpg', data=img, compression=\"gzip\", compression_opts=9)\n",
    "          \n",
    "          count = count + 1\n",
    "          if (count%1000 == 0):\n",
    "            print(\"images done .. \", count)\n",
    "            pass\n",
    "            \n",
    "          # total_images 수만큼만 추가\n",
    "          if (count == total_images):\n",
    "            break\n",
    "          pass\n",
    "\n",
    "        pass\n",
    "      pass"
   ]
  },
  {
   "cell_type": "code",
   "execution_count": 0,
   "metadata": {
    "colab": {},
    "colab_type": "code",
    "id": "3O1cSNS2_mdC"
   },
   "outputs": [],
   "source": []
  }
 ],
 "metadata": {
  "colab": {
   "collapsed_sections": [],
   "name": "10_celeba_download_make_hdf5.ipynb",
   "provenance": []
  },
  "kernelspec": {
   "display_name": "Python 3",
   "language": "python",
   "name": "python3"
  }
 },
 "nbformat": 4,
 "nbformat_minor": 1
}
